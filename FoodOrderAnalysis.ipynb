{
 "cells": [
  {
   "cell_type": "markdown",
   "metadata": {},
   "source": [
    "# Food Delivery Cost and Profitability Analysis"
   ]
  },
  {
   "cell_type": "code",
   "execution_count": 50,
   "metadata": {},
   "outputs": [],
   "source": [
    "import pandas as pd\n"
   ]
  },
  {
   "cell_type": "markdown",
   "metadata": {},
   "source": [
    "# Data Extraction"
   ]
  },
  {
   "cell_type": "code",
   "execution_count": 25,
   "metadata": {},
   "outputs": [
    {
     "data": {
      "text/html": [
       "<div>\n",
       "<style scoped>\n",
       "    .dataframe tbody tr th:only-of-type {\n",
       "        vertical-align: middle;\n",
       "    }\n",
       "\n",
       "    .dataframe tbody tr th {\n",
       "        vertical-align: top;\n",
       "    }\n",
       "\n",
       "    .dataframe thead th {\n",
       "        text-align: right;\n",
       "    }\n",
       "</style>\n",
       "<table border=\"1\" class=\"dataframe\">\n",
       "  <thead>\n",
       "    <tr style=\"text-align: right;\">\n",
       "      <th></th>\n",
       "      <th>Order ID</th>\n",
       "      <th>Customer ID</th>\n",
       "      <th>Restaurant ID</th>\n",
       "      <th>Order Date and Time</th>\n",
       "      <th>Delivery Date and Time</th>\n",
       "      <th>Order Value</th>\n",
       "      <th>Delivery Fee</th>\n",
       "      <th>Payment Method</th>\n",
       "      <th>Discounts and Offers</th>\n",
       "      <th>Commission Fee</th>\n",
       "      <th>Payment Processing Fee</th>\n",
       "      <th>Refunds/Chargebacks</th>\n",
       "    </tr>\n",
       "  </thead>\n",
       "  <tbody>\n",
       "    <tr>\n",
       "      <th>0</th>\n",
       "      <td>1</td>\n",
       "      <td>C8270</td>\n",
       "      <td>R2924</td>\n",
       "      <td>2024-02-01 01:11:52</td>\n",
       "      <td>2024-02-01 02:39:52</td>\n",
       "      <td>1914</td>\n",
       "      <td>0</td>\n",
       "      <td>Credit Card</td>\n",
       "      <td>5% on App</td>\n",
       "      <td>150</td>\n",
       "      <td>47</td>\n",
       "      <td>0</td>\n",
       "    </tr>\n",
       "    <tr>\n",
       "      <th>1</th>\n",
       "      <td>2</td>\n",
       "      <td>C1860</td>\n",
       "      <td>R2054</td>\n",
       "      <td>2024-02-02 22:11:04</td>\n",
       "      <td>2024-02-02 22:46:04</td>\n",
       "      <td>986</td>\n",
       "      <td>40</td>\n",
       "      <td>Digital Wallet</td>\n",
       "      <td>10%</td>\n",
       "      <td>198</td>\n",
       "      <td>23</td>\n",
       "      <td>0</td>\n",
       "    </tr>\n",
       "    <tr>\n",
       "      <th>2</th>\n",
       "      <td>3</td>\n",
       "      <td>C6390</td>\n",
       "      <td>R2870</td>\n",
       "      <td>2024-01-31 05:54:35</td>\n",
       "      <td>2024-01-31 06:52:35</td>\n",
       "      <td>937</td>\n",
       "      <td>30</td>\n",
       "      <td>Cash on Delivery</td>\n",
       "      <td>15% New User</td>\n",
       "      <td>195</td>\n",
       "      <td>45</td>\n",
       "      <td>0</td>\n",
       "    </tr>\n",
       "    <tr>\n",
       "      <th>3</th>\n",
       "      <td>4</td>\n",
       "      <td>C6191</td>\n",
       "      <td>R2642</td>\n",
       "      <td>2024-01-16 22:52:49</td>\n",
       "      <td>2024-01-16 23:38:49</td>\n",
       "      <td>1463</td>\n",
       "      <td>50</td>\n",
       "      <td>Cash on Delivery</td>\n",
       "      <td>NaN</td>\n",
       "      <td>146</td>\n",
       "      <td>27</td>\n",
       "      <td>0</td>\n",
       "    </tr>\n",
       "    <tr>\n",
       "      <th>4</th>\n",
       "      <td>5</td>\n",
       "      <td>C6734</td>\n",
       "      <td>R2799</td>\n",
       "      <td>2024-01-29 01:19:30</td>\n",
       "      <td>2024-01-29 02:48:30</td>\n",
       "      <td>1992</td>\n",
       "      <td>30</td>\n",
       "      <td>Cash on Delivery</td>\n",
       "      <td>50 off Promo</td>\n",
       "      <td>130</td>\n",
       "      <td>50</td>\n",
       "      <td>0</td>\n",
       "    </tr>\n",
       "  </tbody>\n",
       "</table>\n",
       "</div>"
      ],
      "text/plain": [
       "   Order ID Customer ID Restaurant ID  Order Date and Time  \\\n",
       "0         1       C8270         R2924  2024-02-01 01:11:52   \n",
       "1         2       C1860         R2054  2024-02-02 22:11:04   \n",
       "2         3       C6390         R2870  2024-01-31 05:54:35   \n",
       "3         4       C6191         R2642  2024-01-16 22:52:49   \n",
       "4         5       C6734         R2799  2024-01-29 01:19:30   \n",
       "\n",
       "  Delivery Date and Time  Order Value  Delivery Fee    Payment Method  \\\n",
       "0    2024-02-01 02:39:52         1914             0       Credit Card   \n",
       "1    2024-02-02 22:46:04          986            40    Digital Wallet   \n",
       "2    2024-01-31 06:52:35          937            30  Cash on Delivery   \n",
       "3    2024-01-16 23:38:49         1463            50  Cash on Delivery   \n",
       "4    2024-01-29 02:48:30         1992            30  Cash on Delivery   \n",
       "\n",
       "  Discounts and Offers  Commission Fee  Payment Processing Fee  \\\n",
       "0            5% on App             150                      47   \n",
       "1                  10%             198                      23   \n",
       "2         15% New User             195                      45   \n",
       "3                  NaN             146                      27   \n",
       "4         50 off Promo             130                      50   \n",
       "\n",
       "   Refunds/Chargebacks  \n",
       "0                    0  \n",
       "1                    0  \n",
       "2                    0  \n",
       "3                    0  \n",
       "4                    0  "
      ]
     },
     "execution_count": 25,
     "metadata": {},
     "output_type": "execute_result"
    }
   ],
   "source": [
    "food_orders = pd.read_csv('./Datasets/food_orders_new_delhi.csv')\n",
    "food_orders.head()"
   ]
  },
  {
   "cell_type": "code",
   "execution_count": 37,
   "metadata": {},
   "outputs": [
    {
     "name": "stdout",
     "output_type": "stream",
     "text": [
      "<class 'pandas.core.frame.DataFrame'>\n",
      "RangeIndex: 1000 entries, 0 to 999\n",
      "Data columns (total 14 columns):\n",
      " #   Column                  Non-Null Count  Dtype         \n",
      "---  ------                  --------------  -----         \n",
      " 0   Order ID                1000 non-null   int64         \n",
      " 1   Customer ID             1000 non-null   object        \n",
      " 2   Restaurant ID           1000 non-null   object        \n",
      " 3   Order Date and Time     1000 non-null   datetime64[ns]\n",
      " 4   Delivery Date and Time  1000 non-null   datetime64[ns]\n",
      " 5   Order Value             1000 non-null   int64         \n",
      " 6   Delivery Fee            1000 non-null   int64         \n",
      " 7   Payment Method          1000 non-null   object        \n",
      " 8   Discounts and Offers    1000 non-null   object        \n",
      " 9   Commission Fee          1000 non-null   int64         \n",
      " 10  Payment Processing Fee  1000 non-null   int64         \n",
      " 11  Refunds/Chargebacks     1000 non-null   int64         \n",
      " 12  Discount Percentage     1000 non-null   float64       \n",
      " 13  Discount Amount         1000 non-null   float64       \n",
      "dtypes: datetime64[ns](2), float64(2), int64(6), object(4)\n",
      "memory usage: 109.5+ KB\n"
     ]
    }
   ],
   "source": [
    "food_orders.info()"
   ]
  },
  {
   "cell_type": "code",
   "execution_count": 27,
   "metadata": {},
   "outputs": [
    {
     "data": {
      "text/plain": [
       "Order ID                    0\n",
       "Customer ID                 0\n",
       "Restaurant ID               0\n",
       "Order Date and Time         0\n",
       "Delivery Date and Time      0\n",
       "Order Value                 0\n",
       "Delivery Fee                0\n",
       "Payment Method              0\n",
       "Discounts and Offers      185\n",
       "Commission Fee              0\n",
       "Payment Processing Fee      0\n",
       "Refunds/Chargebacks         0\n",
       "dtype: int64"
      ]
     },
     "execution_count": 27,
     "metadata": {},
     "output_type": "execute_result"
    }
   ],
   "source": [
    "food_orders.isnull().sum()"
   ]
  },
  {
   "cell_type": "markdown",
   "metadata": {},
   "source": [
    "# Data Cleaning"
   ]
  },
  {
   "cell_type": "code",
   "execution_count": 29,
   "metadata": {},
   "outputs": [],
   "source": [
    "food_orders['Discounts and Offers'] = food_orders['Discounts and Offers'].fillna('Not AVailable')"
   ]
  },
  {
   "cell_type": "code",
   "execution_count": 30,
   "metadata": {},
   "outputs": [
    {
     "data": {
      "text/plain": [
       "Order ID                  0\n",
       "Customer ID               0\n",
       "Restaurant ID             0\n",
       "Order Date and Time       0\n",
       "Delivery Date and Time    0\n",
       "Order Value               0\n",
       "Delivery Fee              0\n",
       "Payment Method            0\n",
       "Discounts and Offers      0\n",
       "Commission Fee            0\n",
       "Payment Processing Fee    0\n",
       "Refunds/Chargebacks       0\n",
       "dtype: int64"
      ]
     },
     "execution_count": 30,
     "metadata": {},
     "output_type": "execute_result"
    }
   ],
   "source": [
    "food_orders.isnull().sum()"
   ]
  },
  {
   "cell_type": "code",
   "execution_count": 51,
   "metadata": {},
   "outputs": [],
   "source": [
    "from datetime import datetime"
   ]
  },
  {
   "cell_type": "code",
   "execution_count": 31,
   "metadata": {},
   "outputs": [],
   "source": [
    "food_orders['Order Date and Time'] = pd.to_datetime(\n",
    "    food_orders['Order Date and Time'])\n",
    "food_orders['Delivery Date and Time'] = pd.to_datetime(\n",
    "    food_orders['Delivery Date and Time'])"
   ]
  },
  {
   "cell_type": "code",
   "execution_count": 32,
   "metadata": {},
   "outputs": [],
   "source": [
    "# first, let's create a function to extract numeric values from the 'Discounts and Offers' string\n",
    "def extract_discount(discount_str):\n",
    "    if 'off' in discount_str:\n",
    "        # Fixed amount off\n",
    "        return float(discount_str.split(' ')[0])\n",
    "    elif '%' in discount_str:\n",
    "        # Percentage off\n",
    "        return float(discount_str.split('%')[0])\n",
    "    else:\n",
    "        # No discount\n",
    "        return 0.0"
   ]
  },
  {
   "cell_type": "code",
   "execution_count": 33,
   "metadata": {},
   "outputs": [
    {
     "data": {
      "text/html": [
       "<div>\n",
       "<style scoped>\n",
       "    .dataframe tbody tr th:only-of-type {\n",
       "        vertical-align: middle;\n",
       "    }\n",
       "\n",
       "    .dataframe tbody tr th {\n",
       "        vertical-align: top;\n",
       "    }\n",
       "\n",
       "    .dataframe thead th {\n",
       "        text-align: right;\n",
       "    }\n",
       "</style>\n",
       "<table border=\"1\" class=\"dataframe\">\n",
       "  <thead>\n",
       "    <tr style=\"text-align: right;\">\n",
       "      <th></th>\n",
       "      <th>Order Value</th>\n",
       "      <th>Discounts and Offers</th>\n",
       "      <th>Discount Percentage</th>\n",
       "      <th>Discount Amount</th>\n",
       "    </tr>\n",
       "  </thead>\n",
       "  <tbody>\n",
       "    <tr>\n",
       "      <th>0</th>\n",
       "      <td>1914</td>\n",
       "      <td>5% on App</td>\n",
       "      <td>5.0</td>\n",
       "      <td>95.70</td>\n",
       "    </tr>\n",
       "    <tr>\n",
       "      <th>1</th>\n",
       "      <td>986</td>\n",
       "      <td>10%</td>\n",
       "      <td>10.0</td>\n",
       "      <td>98.60</td>\n",
       "    </tr>\n",
       "    <tr>\n",
       "      <th>2</th>\n",
       "      <td>937</td>\n",
       "      <td>15% New User</td>\n",
       "      <td>15.0</td>\n",
       "      <td>140.55</td>\n",
       "    </tr>\n",
       "    <tr>\n",
       "      <th>3</th>\n",
       "      <td>1463</td>\n",
       "      <td>Not AVailable</td>\n",
       "      <td>0.0</td>\n",
       "      <td>0.00</td>\n",
       "    </tr>\n",
       "    <tr>\n",
       "      <th>4</th>\n",
       "      <td>1992</td>\n",
       "      <td>50 off Promo</td>\n",
       "      <td>50.0</td>\n",
       "      <td>996.00</td>\n",
       "    </tr>\n",
       "  </tbody>\n",
       "</table>\n",
       "</div>"
      ],
      "text/plain": [
       "   Order Value Discounts and Offers  Discount Percentage  Discount Amount\n",
       "0         1914            5% on App                  5.0            95.70\n",
       "1          986                  10%                 10.0            98.60\n",
       "2          937         15% New User                 15.0           140.55\n",
       "3         1463        Not AVailable                  0.0             0.00\n",
       "4         1992         50 off Promo                 50.0           996.00"
      ]
     },
     "execution_count": 33,
     "metadata": {},
     "output_type": "execute_result"
    }
   ],
   "source": [
    "# apply the function to create a new 'Discount Value' column\n",
    "food_orders['Discount Percentage'] = food_orders['Discounts and Offers'].apply(lambda x: extract_discount(x))\n",
    "\n",
    "# for percentage discounts, calculate the discount amount based on the order value\n",
    "# food_orders['Discount Amount'] = food_orders.apply(lambda x: (x['Order Value'] * x['Discount Percentage'] / 100)\n",
    "#                                                    if x['Discount Percentage'] > 1\n",
    "#                                                    else x['Discount Percentage'], axis=1)\n",
    "\n",
    "# adjust 'Discount Amount' for fixed discounts directly specified in the 'Discounts and Offers' column\n",
    "food_orders['Discount Amount'] = food_orders.apply(lambda x: x['Discount Percentage'] if x['Discount Percentage'] <= 1\n",
    "                                                   else x['Order Value'] * x['Discount Percentage'] / 100, axis=1)\n",
    "\n",
    "food_orders[['Order Value', 'Discounts and Offers',\n",
    "      'Discount Percentage', 'Discount Amount']].head()"
   ]
  },
  {
   "cell_type": "code",
   "execution_count": 34,
   "metadata": {},
   "outputs": [
    {
     "data": {
      "text/plain": [
       "Order ID                           int64\n",
       "Customer ID                       object\n",
       "Restaurant ID                     object\n",
       "Order Date and Time       datetime64[ns]\n",
       "Delivery Date and Time    datetime64[ns]\n",
       "Order Value                        int64\n",
       "Delivery Fee                       int64\n",
       "Payment Method                    object\n",
       "Discounts and Offers              object\n",
       "Commission Fee                     int64\n",
       "Payment Processing Fee             int64\n",
       "Refunds/Chargebacks                int64\n",
       "Discount Percentage              float64\n",
       "Discount Amount                  float64\n",
       "dtype: object"
      ]
     },
     "execution_count": 34,
     "metadata": {},
     "output_type": "execute_result"
    }
   ],
   "source": [
    "food_orders.dtypes"
   ]
  },
  {
   "cell_type": "markdown",
   "metadata": {},
   "source": [
    "# Cost and Profitability Analysis"
   ]
  },
  {
   "cell_type": "markdown",
   "metadata": {},
   "source": [
    "### The revenue for the platform is mainly derived from the Commission Fee."
   ]
  },
  {
   "cell_type": "code",
   "execution_count": 40,
   "metadata": {},
   "outputs": [],
   "source": [
    "# calculate total costs and revenue per order\n",
    "food_orders['Total Costs'] = food_orders['Delivery Fee'] + food_orders['Payment Processing Fee'] + food_orders['Discount Amount']\n",
    "food_orders['Revenue'] = food_orders['Commission Fee']\n",
    "food_orders['Profit'] = food_orders['Revenue'] - food_orders['Total Costs']"
   ]
  },
  {
   "cell_type": "code",
   "execution_count": 41,
   "metadata": {},
   "outputs": [],
   "source": [
    "# aggregate data to get overall metrics\n",
    "total_orders = food_orders.shape[0]\n",
    "total_revenue = food_orders['Revenue'].sum()\n",
    "total_costs = food_orders['Total Costs'].sum()\n",
    "total_profit = food_orders['Profit'].sum()"
   ]
  },
  {
   "cell_type": "code",
   "execution_count": 49,
   "metadata": {},
   "outputs": [
    {
     "data": {
      "text/plain": [
       "Total Orders       1000.00\n",
       "Total Revenue    126990.00\n",
       "Total Costs      232709.85\n",
       "Total Profit    -105719.85\n",
       "dtype: float64"
      ]
     },
     "execution_count": 49,
     "metadata": {},
     "output_type": "execute_result"
    }
   ],
   "source": [
    "overall_metrics = {\n",
    "    \"Total Orders\": total_orders,\n",
    "    \"Total Revenue\": total_revenue,\n",
    "    \"Total Costs\": total_costs,\n",
    "    \"Total Profit\": total_profit\n",
    "}\n",
    "\n",
    "pd.Series(overall_metrics)"
   ]
  },
  {
   "cell_type": "code",
   "execution_count": 52,
   "metadata": {},
   "outputs": [],
   "source": [
    "import matplotlib.pyplot as plt"
   ]
  },
  {
   "cell_type": "code",
   "execution_count": 75,
   "metadata": {},
   "outputs": [
    {
     "data": {
      "image/png": "[encoded data removed]",
      "text/plain": [
       "<Figure size 1200x600 with 1 Axes>"
      ]
     },
     "metadata": {},
     "output_type": "display_data"
    }
   ],
   "source": [
    "\n",
    "plt.figure(figsize=(12, 6))\n",
    "plt.hist(food_orders['Profit'], bins=70, color='skyblue', edgecolor='black')\n",
    "plt.title('Profit Distribution Per Order in Food Delivery')\n",
    "plt.xlabel('Profit')\n",
    "plt.ylabel('Number of Orders')\n",
    "plt.axvline(food_orders['Profit'].mean(), color='red', linestyle='dashed', linewidth=1)\n",
    "plt.show()"
   ]
  },
  {
   "cell_type": "code",
   "execution_count": 95,
   "metadata": {},
   "outputs": [
    {
     "data": {
      "image/png": "[encoded data removed]",
      "text/plain": [
       "<Figure size 700x700 with 1 Axes>"
      ]
     },
     "metadata": {},
     "output_type": "display_data"
    }
   ],
   "source": [
    "costs_breakdown = food_orders[['Delivery Fee', 'Payment Processing Fee', 'Discount Amount']].sum()\n",
    "plt.figure(figsize=(7, 7))\n",
    "plt.pie(costs_breakdown, labels=costs_breakdown.index, autopct='%1.3f%%', startangle=140, colors=['tomato', 'gold', 'lightblue'])\n",
    "plt.title('Proportion of Total Costs in Food Delivery')\n",
    "plt.show()"
   ]
  },
  {
   "cell_type": "code",
   "execution_count": 55,
   "metadata": {},
   "outputs": [
    {
     "data": {
      "image/png": "[encoded data removed]",
      "text/plain": [
       "<Figure size 800x600 with 1 Axes>"
      ]
     },
     "metadata": {},
     "output_type": "display_data"
    }
   ],
   "source": [
    "# bar chart for total revenue, costs, and profit\n",
    "totals = ['Total Revenue', 'Total Costs', 'Total Profit']\n",
    "values = [total_revenue, total_costs, total_profit]\n",
    "\n",
    "plt.figure(figsize=(8, 6))\n",
    "plt.bar(totals, values, color=['green', 'red', 'blue'])\n",
    "plt.title('Total Revenue, Costs, and Profit')\n",
    "plt.ylabel('Amount (INR)')\n",
    "plt.show()"
   ]
  },
  {
   "cell_type": "code",
   "execution_count": null,
   "metadata": {},
   "outputs": [],
   "source": []
  }
 ],
 "metadata": {
  "kernelspec": {
   "display_name": "Python-For-Data-Analysis",
   "language": "python",
   "name": "python3"
  },
  "language_info": {
   "codemirror_mode": {
    "name": "ipython",
    "version": 3
   },
   "file_extension": ".py",
   "mimetype": "text/x-python",
   "name": "python",
   "nbconvert_exporter": "python",
   "pygments_lexer": "ipython3",
   "version": "3.12.1"
  }
 },
 "nbformat": 4,
 "nbformat_minor": 2
}
